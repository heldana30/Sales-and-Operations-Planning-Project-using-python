{
 "cells": [
  {
   "cell_type": "markdown",
   "id": "9539c268-2b9b-41ef-8d57-2770dd2bab90",
   "metadata": {},
   "source": [
    "### Sales and Operations Planning Project📈📉📊"
   ]
  },
  {
   "cell_type": "code",
   "execution_count": null,
   "id": "64c53e23-7af7-4ac1-80e2-082e5a91fb77",
   "metadata": {},
   "outputs": [],
   "source": [
    "initial_stock = int(input(\"Please enter an initial stock level: \"))\n",
    "num_months = int(input(\"Please enter the number of months to plan: \"))\n",
    "\n",
    "stock_level = initial_stock\n",
    "production_quantities = []\n",
    "\n",
    "for month in range(1, num_months + 1):\n",
    "    planned_sales = int(input(f\"Please enter the planned sales quantity for month {month}:\"))\n",
    "    \n",
    "    production_quantity = max(0, planned_sales - stock_level)\n",
    "\n",
    "    stock_level = max(0, stock_level + production_quantity - planned_sales)\n",
    "\n",
    "    production_quantities.append(production_quantity)\n",
    "\n",
    "for month, quantity in enumerate(production_quantities, start=1):\n",
    "    print(f\"\\n Production quantity month {month} - {quantity}\\n\")"
   ]
  }
 ],
 "metadata": {
  "kernelspec": {
   "display_name": "Python 3 (ipykernel)",
   "language": "python",
   "name": "python3"
  },
  "language_info": {
   "codemirror_mode": {
    "name": "ipython",
    "version": 3
   },
   "file_extension": ".py",
   "mimetype": "text/x-python",
   "name": "python",
   "nbconvert_exporter": "python",
   "pygments_lexer": "ipython3",
   "version": "3.10.9"
  }
 },
 "nbformat": 4,
 "nbformat_minor": 5
}
